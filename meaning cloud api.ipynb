{
 "cells": [
  {
   "cell_type": "code",
   "execution_count": 56,
   "metadata": {
    "collapsed": true
   },
   "outputs": [],
   "source": [
    "import pandas as pd"
   ]
  },
  {
   "cell_type": "code",
   "execution_count": 228,
   "metadata": {
    "collapsed": true
   },
   "outputs": [],
   "source": [
    "df = pd.read_excel(\"C:/Users/14007065220.IPC/Documents/dataset.xlsx\")"
   ]
  },
  {
   "cell_type": "code",
   "execution_count": 229,
   "metadata": {
    "collapsed": true
   },
   "outputs": [],
   "source": [
    "senti = df['sentiment']"
   ]
  },
  {
   "cell_type": "code",
   "execution_count": 230,
   "metadata": {},
   "outputs": [],
   "source": [
    "df = df.drop('sentiment',axis=1)"
   ]
  },
  {
   "cell_type": "code",
   "execution_count": 60,
   "metadata": {},
   "outputs": [],
   "source": [
    "text = df['text']"
   ]
  },
  {
   "cell_type": "code",
   "execution_count": 210,
   "metadata": {},
   "outputs": [],
   "source": [
    "for i in range(199):\n",
    "    text[i] = text[i].replace('¥',',')"
   ]
  },
  {
   "cell_type": "code",
   "execution_count": 213,
   "metadata": {},
   "outputs": [
    {
     "name": "stdout",
     "output_type": "stream",
     "text": [
      "{'status': {'code': '0', 'msg': 'OK', 'credits': '1', 'remaining_credits': '19530'}, 'model': 'general_en', 'score_tag': 'N', 'agreement': 'AGREEMENT', 'subjectivity': 'OBJECTIVE', 'confidence': '100', 'irony': 'NONIRONIC', 'sentence_list': [{'text': '@VirginAmerica', 'inip': '0', 'endp': '13', 'bop': 'y', 'confidence': '100', 'score_tag': 'NONE', 'agreement': 'AGREEMENT', 'segment_list': [{'text': '@VirginAmerica', 'segment_type': 'secondary', 'inip': '0', 'endp': '13', 'confidence': '100', 'score_tag': 'NONE', 'agreement': 'AGREEMENT', 'polarity_term_list': [], 'sentimented_entity_list': [{'form': '@VirginAmerica', 'id': '__18091860993180202551', 'variant': '@VirginAmerica', 'inip': '0', 'endp': '13', 'type': 'Top>Id>Nickname', 'score_tag': 'NONE'}]}], 'sentimented_entity_list': [{'form': '@VirginAmerica', 'id': '__18091860993180202551', 'type': 'Top>Id>Nickname', 'score_tag': 'NONE'}], 'sentimented_concept_list': []}, {'text': 'Applied for Status Match on Feb 1.', 'inip': '15', 'endp': '48', 'bop': 'n', 'confidence': '100', 'score_tag': 'NONE', 'agreement': 'AGREEMENT', 'segment_list': [{'text': 'Applied for Status Match on Feb 1', 'segment_type': 'secondary', 'inip': '15', 'endp': '47', 'confidence': '100', 'score_tag': 'NONE', 'agreement': 'AGREEMENT', 'polarity_term_list': [], 'sentimented_concept_list': [{'form': 'match', 'id': '8462e12559', 'variant': 'Match', 'inip': '34', 'endp': '38', 'type': 'Top>Event>Occasion>Games', 'score_tag': 'NONE'}]}], 'sentimented_entity_list': [], 'sentimented_concept_list': [{'form': 'match', 'id': '8462e12559', 'type': 'Top>Event>Occasion>Games', 'score_tag': 'NONE'}]}, {'text': 'Got confirmation email same day.', 'inip': '50', 'endp': '81', 'bop': 'n', 'confidence': '100', 'score_tag': 'NONE', 'agreement': 'AGREEMENT', 'segment_list': [{'text': 'Got confirmation email same day', 'segment_type': 'secondary', 'inip': '50', 'endp': '80', 'confidence': '100', 'score_tag': 'NONE', 'agreement': 'AGREEMENT', 'polarity_term_list': [], 'sentimented_concept_list': [{'form': 'confirmation', 'id': '8783a63936', 'variant': 'confirmation', 'inip': '54', 'endp': '65', 'type': 'Top>Event>Occasion', 'score_tag': 'NONE'}, {'form': 'email', 'id': 'fd48559b1e', 'variant': 'email', 'inip': '67', 'endp': '71', 'type': 'Top>Id>Email', 'score_tag': 'NONE'}]}], 'sentimented_entity_list': [], 'sentimented_concept_list': [{'form': 'confirmation', 'id': '8783a63936', 'type': 'Top>Event>Occasion', 'score_tag': 'NONE'}, {'form': 'email', 'id': 'fd48559b1e', 'type': 'Top>Id>Email', 'score_tag': 'NONE'}]}, {'text': 'Still no news though.', 'inip': '83', 'endp': '103', 'bop': 'n', 'confidence': '100', 'score_tag': 'NONE', 'agreement': 'AGREEMENT', 'segment_list': [{'text': 'Still no news though', 'segment_type': 'main', 'inip': '83', 'endp': '102', 'confidence': '100', 'score_tag': 'NONE', 'agreement': 'AGREEMENT', 'polarity_term_list': []}], 'sentimented_entity_list': [], 'sentimented_concept_list': []}, {'text': 'You guys have dropped ball Late Flightly , ,', 'inip': '105', 'endp': '149', 'bop': 'n', 'confidence': '100', 'score_tag': 'N', 'agreement': 'AGREEMENT', 'segment_list': [{'text': 'You guys have dropped ball Late Flightly , ,', 'segment_type': 'main', 'inip': '105', 'endp': '149', 'confidence': '100', 'score_tag': 'N', 'agreement': 'AGREEMENT', 'polarity_term_list': [{'text': 'drop', 'inip': '114', 'endp': '125', 'confidence': '100', 'score_tag': 'N', 'sentimented_entity_list': [{'form': 'Late Flightly', 'id': '__2371531376358669141', 'variant': 'Late Flightly', 'inip': '132', 'endp': '144', 'type': 'Top', 'score_tag': 'N'}], 'sentimented_concept_list': [{'form': 'guy', 'id': '892278f516', 'variant': 'guys', 'inip': '109', 'endp': '112', 'type': 'Top>Person', 'score_tag': 'N'}, {'form': 'ball', 'id': 'a149d601c9', 'variant': 'ball', 'inip': '127', 'endp': '130', 'type': 'Top', 'score_tag': 'N'}]}]}], 'sentimented_entity_list': [{'form': 'Late Flightly', 'id': '__2371531376358669141', 'type': 'Top', 'score_tag': 'N'}], 'sentimented_concept_list': [{'form': 'guy', 'id': '892278f516', 'type': 'Top>Person', 'score_tag': 'N'}, {'form': 'ball', 'id': 'a149d601c9', 'type': 'Top', 'score_tag': 'N'}]}], 'sentimented_entity_list': [{'form': '@VirginAmerica', 'id': '__18091860993180202551', 'type': 'Top>Id>Nickname', 'score_tag': 'NONE'}, {'form': 'Late Flightly', 'id': '__2371531376358669141', 'type': 'Top', 'score_tag': 'N'}], 'sentimented_concept_list': [{'form': 'match', 'id': '8462e12559', 'type': 'Top>Event>Occasion>Games', 'score_tag': 'NONE'}, {'form': 'confirmation', 'id': '8783a63936', 'type': 'Top>Event>Occasion', 'score_tag': 'NONE'}, {'form': 'guy', 'id': '892278f516', 'type': 'Top>Person', 'score_tag': 'N'}, {'form': 'ball', 'id': 'a149d601c9', 'type': 'Top', 'score_tag': 'N'}, {'form': 'email', 'id': 'fd48559b1e', 'type': 'Top>Id>Email', 'score_tag': 'NONE'}]}\n",
      "N\n",
      "**************************************************\n",
      "{'status': {'code': '0', 'msg': 'OK', 'credits': '1', 'remaining_credits': '19529'}, 'model': 'general_en', 'score_tag': 'NONE', 'agreement': 'AGREEMENT', 'subjectivity': 'OBJECTIVE', 'confidence': '100', 'irony': 'NONIRONIC', 'sentence_list': [{'text': '@VirginAmerica is my new go to airline', 'inip': '0', 'endp': '37', 'bop': 'y', 'confidence': '100', 'score_tag': 'NONE', 'agreement': 'AGREEMENT', 'segment_list': [{'text': '@VirginAmerica is my new go to airline', 'segment_type': 'secondary', 'inip': '0', 'endp': '37', 'confidence': '100', 'score_tag': 'NONE', 'agreement': 'AGREEMENT', 'polarity_term_list': [], 'sentimented_entity_list': [{'form': '@VirginAmerica', 'id': '__18091860993180202551', 'variant': '@VirginAmerica', 'inip': '0', 'endp': '13', 'type': 'Top>Id>Nickname', 'score_tag': 'NONE'}], 'sentimented_concept_list': [{'form': 'airline', 'id': '333a7f91db', 'variant': 'airline', 'inip': '31', 'endp': '37', 'type': 'Top>Organization>Company>IndustrialCompany>TransportationCompany', 'score_tag': 'NONE'}]}], 'sentimented_entity_list': [{'form': '@VirginAmerica', 'id': '__18091860993180202551', 'type': 'Top>Id>Nickname', 'score_tag': 'NONE'}], 'sentimented_concept_list': [{'form': 'airline', 'id': '333a7f91db', 'type': 'Top>Organization>Company>IndustrialCompany>TransportationCompany', 'score_tag': 'NONE'}]}], 'sentimented_entity_list': [{'form': '@VirginAmerica', 'id': '__18091860993180202551', 'type': 'Top>Id>Nickname', 'score_tag': 'NONE'}], 'sentimented_concept_list': [{'form': 'airline', 'id': '333a7f91db', 'type': 'Top>Organization>Company>IndustrialCompany>TransportationCompany', 'score_tag': 'NONE'}]}\n",
      "NONE\n",
      "**************************************************\n"
     ]
    }
   ],
   "source": [
    "import requests\n",
    "\n",
    "url = \"https://api.meaningcloud.com/sentiment-2.1\"\n",
    "\n",
    "for i in range(197,199):\n",
    "    payload = \"key=d804be9bc5db272b775c41172f02502d &lang=en &txt={} \".format(text[i])\n",
    "    headers = {'content-type': 'application/x-www-form-urlencoded'}\n",
    "    response = requests.request(\"POST\", url, data=payload, headers=headers)\n",
    "    stuff = response.json()\n",
    "    print(response.json())\n",
    "    print(stuff['score_tag'])\n",
    "    sentiment.append(stuff['score_tag'])\n",
    "    print(\"*\"*50)\n",
    "\n"
   ]
  },
  {
   "cell_type": "code",
   "execution_count": 214,
   "metadata": {},
   "outputs": [
    {
     "data": {
      "text/plain": [
       "199"
      ]
     },
     "execution_count": 214,
     "metadata": {},
     "output_type": "execute_result"
    }
   ],
   "source": [
    "sentiment.__len__()"
   ]
  },
  {
   "cell_type": "code",
   "execution_count": 224,
   "metadata": {},
   "outputs": [],
   "source": [
    "for i in range(199):\n",
    "    sentiment[i]=sentiment[i].replace('NONE','neutral')\n",
    "    sentiment[i]=sentiment[i].replace('NEU','neutral')\n",
    "    sentiment[i]=sentiment[i].replace('N','negative')\n",
    "    sentiment[i]=sentiment[i].replace('P','positive')\n",
    "    sentiment[i]=sentiment[i].replace('N+','negative')\n",
    "    sentiment[i]=sentiment[i].replace('P+','positive')"
   ]
  },
  {
   "cell_type": "code",
   "execution_count": 231,
   "metadata": {},
   "outputs": [],
   "source": [
    "from sklearn.metrics import accuracy_score"
   ]
  },
  {
   "cell_type": "code",
   "execution_count": 234,
   "metadata": {},
   "outputs": [
    {
     "data": {
      "text/plain": [
       "61.809045226130657"
      ]
     },
     "execution_count": 234,
     "metadata": {},
     "output_type": "execute_result"
    }
   ],
   "source": [
    "accuracy_score(sentiment,senti)*100"
   ]
  },
  {
   "cell_type": "code",
   "execution_count": null,
   "metadata": {},
   "outputs": [],
   "source": []
  },
  {
   "cell_type": "code",
   "execution_count": null,
   "metadata": {
    "collapsed": true
   },
   "outputs": [],
   "source": []
  }
 ],
 "metadata": {
  "kernelspec": {
   "display_name": "Python 3",
   "language": "python",
   "name": "python3"
  },
  "language_info": {
   "codemirror_mode": {
    "name": "ipython",
    "version": 3
   },
   "file_extension": ".py",
   "mimetype": "text/x-python",
   "name": "python",
   "nbconvert_exporter": "python",
   "pygments_lexer": "ipython3",
   "version": "3.6.3"
  }
 },
 "nbformat": 4,
 "nbformat_minor": 2
}
